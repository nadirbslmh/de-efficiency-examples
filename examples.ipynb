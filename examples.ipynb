{
 "cells": [
  {
   "cell_type": "markdown",
   "metadata": {},
   "source": [
    "### Efficiency Examples in Data Engineering\n",
    "\n",
    "This notebook explains some efficiency techniques for data engineering process:\n",
    "\n",
    "- Optimize data processing with Pandas\n",
    "- Implement batch processing\n",
    "- Use code profiling for resource usage checking "
   ]
  },
  {
   "cell_type": "markdown",
   "metadata": {},
   "source": [
    "## Optimize Data Processing with Pandas"
   ]
  },
  {
   "cell_type": "markdown",
   "metadata": {},
   "source": [
    "### Before Optimization"
   ]
  },
  {
   "cell_type": "code",
   "execution_count": null,
   "metadata": {},
   "outputs": [],
   "source": [
    "import pandas as pd\n",
    "\n",
    "df = pd.read_csv(\"sales_data.csv\")\n",
    "\n",
    "total_sales = {}\n",
    "for index, row in df.iterrows():\n",
    "    customer_id = row[\"customer_id\"]\n",
    "    sales = row[\"quantity\"] * row[\"price\"]\n",
    "    if customer_id in total_sales:\n",
    "        total_sales[customer_id] += sales\n",
    "    else:\n",
    "        total_sales[customer_id] = sales\n",
    "\n",
    "result = pd.DataFrame(list(total_sales.items()), columns=[\"customer_id\", \"total_sales\"])\n",
    "\n",
    "print(result)"
   ]
  },
  {
   "cell_type": "markdown",
   "metadata": {},
   "source": [
    "### After Optimization"
   ]
  },
  {
   "cell_type": "code",
   "execution_count": null,
   "metadata": {},
   "outputs": [],
   "source": [
    "import pandas as pd\n",
    "\n",
    "df = pd.read_csv(\"sales_data.csv\")\n",
    "\n",
    "df[\"sales\"] = df[\"quantity\"] * df[\"price\"]\n",
    "result = df.groupby(\"customer_id\", as_index=False)[\"sales\"].sum()\n",
    "\n",
    "print(result)"
   ]
  },
  {
   "cell_type": "markdown",
   "metadata": {},
   "source": [
    "## Implement Batch Processing"
   ]
  },
  {
   "cell_type": "markdown",
   "metadata": {},
   "source": [
    "### Before Batch Processing"
   ]
  },
  {
   "cell_type": "code",
   "execution_count": null,
   "metadata": {},
   "outputs": [],
   "source": [
    "import pandas as pd\n",
    "\n",
    "df = pd.read_csv(\"transactions.csv\")\n",
    "\n",
    "total_amount = df[\"amount\"].sum()\n",
    "\n",
    "print(f\"Total amount (without batch processing): {total_amount}\")"
   ]
  },
  {
   "cell_type": "markdown",
   "metadata": {},
   "source": [
    "### Using Batch Processing"
   ]
  },
  {
   "cell_type": "code",
   "execution_count": null,
   "metadata": {},
   "outputs": [],
   "source": [
    "import pandas as pd\n",
    "\n",
    "# Function to process data in batches\n",
    "def process_data_in_batches(file_path, batch_size):\n",
    "    total_amount = 0\n",
    "    for chunk in pd.read_csv(file_path, chunksize=batch_size):\n",
    "        total_amount += chunk[\"amount\"].sum()\n",
    "    return total_amount\n",
    "\n",
    "\n",
    "# Batch processing: processing data in batches of 3 rows\n",
    "file_path = \"transactions.csv\"\n",
    "batch_size = 3\n",
    "total_amount = process_data_in_batches(file_path, batch_size)\n",
    "\n",
    "print(f\"Total amount (with batch processing): {total_amount}\")"
   ]
  },
  {
   "cell_type": "markdown",
   "metadata": {},
   "source": [
    "## Use Code Profiling"
   ]
  },
  {
   "cell_type": "markdown",
   "metadata": {},
   "source": [
    "### Code Profiling Example 1"
   ]
  },
  {
   "cell_type": "code",
   "execution_count": null,
   "metadata": {},
   "outputs": [],
   "source": [
    "import pandas as pd\n",
    "import cProfile\n",
    "import pstats\n",
    "\n",
    "\n",
    "def load_data(file_path):\n",
    "    df = pd.read_csv(file_path)\n",
    "    return df\n",
    "\n",
    "\n",
    "def calculate_total_amount(df):\n",
    "    total_amount = df[\"amount\"].sum()\n",
    "    return total_amount\n",
    "\n",
    "\n",
    "def main():\n",
    "    file_path = \"transactions.csv\"\n",
    "    df = load_data(file_path)\n",
    "    total_amount = calculate_total_amount(df)\n",
    "    print(f\"Total amount: {total_amount}\")\n",
    "\n",
    "\n",
    "if __name__ == \"__main__\":\n",
    "    profiler = cProfile.Profile()\n",
    "    profiler.enable()\n",
    "\n",
    "    main()\n",
    "\n",
    "    profiler.disable()\n",
    "    stats = pstats.Stats(profiler).sort_stats(\"cumtime\")\n",
    "    stats.print_stats()"
   ]
  },
  {
   "cell_type": "markdown",
   "metadata": {},
   "source": [
    "### Code Profiling Example 2"
   ]
  },
  {
   "cell_type": "code",
   "execution_count": null,
   "metadata": {},
   "outputs": [],
   "source": [
    "import pandas as pd\n",
    "import cProfile\n",
    "import pstats\n",
    "\n",
    "\n",
    "def process_data_in_batches(file_path, batch_size):\n",
    "    total_amount = 0\n",
    "    for chunk in pd.read_csv(file_path, chunksize=batch_size):\n",
    "        total_amount += chunk[\"amount\"].sum()\n",
    "    return total_amount\n",
    "\n",
    "\n",
    "def main():\n",
    "    file_path = \"transactions.csv\"\n",
    "    batch_size = 3\n",
    "    total_amount = process_data_in_batches(file_path, batch_size)\n",
    "    print(f\"Total amount: {total_amount}\")\n",
    "\n",
    "\n",
    "if __name__ == \"__main__\":\n",
    "    profiler = cProfile.Profile()\n",
    "    profiler.enable()\n",
    "\n",
    "    main()\n",
    "\n",
    "    profiler.disable()\n",
    "    stats = pstats.Stats(profiler).sort_stats(\"cumtime\")\n",
    "    stats.print_stats()"
   ]
  }
 ],
 "metadata": {
  "kernelspec": {
   "display_name": "base",
   "language": "python",
   "name": "python3"
  },
  "language_info": {
   "codemirror_mode": {
    "name": "ipython",
    "version": 3
   },
   "file_extension": ".py",
   "mimetype": "text/x-python",
   "name": "python",
   "nbconvert_exporter": "python",
   "pygments_lexer": "ipython3",
   "version": "3.11.3"
  }
 },
 "nbformat": 4,
 "nbformat_minor": 2
}
