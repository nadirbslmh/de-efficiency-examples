{
 "cells": [
  {
   "cell_type": "markdown",
   "metadata": {},
   "source": [
    "### Efficiency Examples in Data Engineering\n",
    "\n",
    "This notebook explains some efficiency techniques for data engineering process:\n",
    "\n",
    "- Optimize data processing with Pandas\n",
    "- Implement batch processing\n",
    "- Use code profiling for resource usage checking "
   ]
  },
  {
   "cell_type": "markdown",
   "metadata": {},
   "source": [
    "## Optimize Data Processing with Pandas"
   ]
  },
  {
   "cell_type": "markdown",
   "metadata": {},
   "source": [
    "### Before Optimization"
   ]
  },
  {
   "cell_type": "code",
   "execution_count": 1,
   "metadata": {},
   "outputs": [
    {
     "name": "stdout",
     "output_type": "stream",
     "text": [
      "   customer_id  total_sales\n",
      "0            1         60.0\n",
      "1            2        120.0\n",
      "2            3        180.0\n",
      "3            4         75.0\n",
      "4            5        135.0\n"
     ]
    }
   ],
   "source": [
    "import pandas as pd\n",
    "\n",
    "df = pd.read_csv(\"sales_data.csv\")\n",
    "\n",
    "total_sales = {}\n",
    "for index, row in df.iterrows():\n",
    "    customer_id = row[\"customer_id\"]\n",
    "    sales = row[\"quantity\"] * row[\"price\"]\n",
    "    if customer_id in total_sales:\n",
    "        total_sales[customer_id] += sales\n",
    "    else:\n",
    "        total_sales[customer_id] = sales\n",
    "\n",
    "result = pd.DataFrame(list(total_sales.items()), columns=[\"customer_id\", \"total_sales\"])\n",
    "\n",
    "print(result)"
   ]
  },
  {
   "cell_type": "markdown",
   "metadata": {},
   "source": [
    "### After Optimization"
   ]
  },
  {
   "cell_type": "code",
   "execution_count": 2,
   "metadata": {},
   "outputs": [
    {
     "name": "stdout",
     "output_type": "stream",
     "text": [
      "   customer_id  sales\n",
      "0            1   60.0\n",
      "1            2  120.0\n",
      "2            3  180.0\n",
      "3            4   75.0\n",
      "4            5  135.0\n"
     ]
    }
   ],
   "source": [
    "import pandas as pd\n",
    "\n",
    "df = pd.read_csv(\"sales_data.csv\")\n",
    "\n",
    "df[\"sales\"] = df[\"quantity\"] * df[\"price\"]\n",
    "result = df.groupby(\"customer_id\", as_index=False)[\"sales\"].sum()\n",
    "\n",
    "print(result)"
   ]
  },
  {
   "cell_type": "markdown",
   "metadata": {},
   "source": [
    "## Implement Batch Processing"
   ]
  },
  {
   "cell_type": "markdown",
   "metadata": {},
   "source": [
    "### Before Batch Processing"
   ]
  },
  {
   "cell_type": "code",
   "execution_count": 5,
   "metadata": {},
   "outputs": [
    {
     "name": "stdout",
     "output_type": "stream",
     "text": [
      "Total amount (without batch processing): 1505.0\n"
     ]
    }
   ],
   "source": [
    "import pandas as pd\n",
    "\n",
    "df = pd.read_csv(\"transactions.csv\")\n",
    "\n",
    "total_amount = df[\"amount\"].sum()\n",
    "\n",
    "print(f\"Total amount (without batch processing): {total_amount}\")"
   ]
  },
  {
   "cell_type": "markdown",
   "metadata": {},
   "source": [
    "### Using Batch Processing"
   ]
  },
  {
   "cell_type": "code",
   "execution_count": 7,
   "metadata": {},
   "outputs": [
    {
     "name": "stdout",
     "output_type": "stream",
     "text": [
      "Total amount (with batch processing): 1505.0\n"
     ]
    }
   ],
   "source": [
    "import pandas as pd\n",
    "\n",
    "# Function to process data in batches\n",
    "def process_data_in_batches(file_path, batch_size):\n",
    "    total_amount = 0\n",
    "    for chunk in pd.read_csv(file_path, chunksize=batch_size):\n",
    "        total_amount += chunk[\"amount\"].sum()\n",
    "    return total_amount\n",
    "\n",
    "\n",
    "# Batch processing: processing data in batches of 3 rows\n",
    "file_path = \"transactions.csv\"\n",
    "batch_size = 3\n",
    "total_amount = process_data_in_batches(file_path, batch_size)\n",
    "\n",
    "print(f\"Total amount (with batch processing): {total_amount}\")"
   ]
  }
 ],
 "metadata": {
  "kernelspec": {
   "display_name": "base",
   "language": "python",
   "name": "python3"
  },
  "language_info": {
   "codemirror_mode": {
    "name": "ipython",
    "version": 3
   },
   "file_extension": ".py",
   "mimetype": "text/x-python",
   "name": "python",
   "nbconvert_exporter": "python",
   "pygments_lexer": "ipython3",
   "version": "3.11.3"
  }
 },
 "nbformat": 4,
 "nbformat_minor": 2
}
